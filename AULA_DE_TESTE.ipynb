{
  "nbformat": 4,
  "nbformat_minor": 0,
  "metadata": {
    "colab": {
      "provenance": [],
      "authorship_tag": "ABX9TyOzBQpGjbSrG4XT+sv/l2tR",
      "include_colab_link": true
    },
    "kernelspec": {
      "name": "python3",
      "display_name": "Python 3"
    },
    "language_info": {
      "name": "python"
    }
  },
  "cells": [
    {
      "cell_type": "markdown",
      "metadata": {
        "id": "view-in-github",
        "colab_type": "text"
      },
      "source": [
        "<a href=\"https://colab.research.google.com/github/Idate1/AULA-DE-TESTE/blob/main/AULA_DE_TESTE.ipynb\" target=\"_parent\"><img src=\"https://colab.research.google.com/assets/colab-badge.svg\" alt=\"Open In Colab\"/></a>"
      ]
    },
    {
      "cell_type": "code",
      "execution_count": 1,
      "metadata": {
        "id": "JC35v-viqQYv"
      },
      "outputs": [],
      "source": [
        "#Instalando o SDK do Google\n",
        "!pip install -q -U google-generativeai"
      ]
    },
    {
      "cell_type": "code",
      "source": [
        "#Configurações iniciais\n",
        "import google.generativeai as genai\n",
        "from google.colab import userdata\n",
        "api_key = userdata.get(\"SECRET_KEY\")\n",
        "genai.configure(api_key=api_key)"
      ],
      "metadata": {
        "id": "jNzn6-zqrJ18"
      },
      "execution_count": 22,
      "outputs": []
    },
    {
      "cell_type": "code",
      "source": [
        "#listar os modelos disponiveis\n",
        "for m in genai.list_models():\n",
        "    if 'generateContent' in m.supported_generation_methods:\n",
        "      print(m.name)aaaa"
      ],
      "metadata": {
        "colab": {
          "base_uri": "https://localhost:8080/",
          "height": 139
        },
        "id": "2bXAeCP1rRvo",
        "outputId": "4b93e907-c03c-4dc0-b8cf-a4cad9e5b7fe"
      },
      "execution_count": 3,
      "outputs": [
        {
          "output_type": "stream",
          "name": "stdout",
          "text": [
            "models/gemini-1.0-pro\n",
            "models/gemini-1.0-pro-001\n",
            "models/gemini-1.0-pro-latest\n",
            "models/gemini-1.0-pro-vision-latest\n",
            "models/gemini-1.5-pro-latest\n",
            "models/gemini-pro\n",
            "models/gemini-pro-vision\n"
          ]
        }
      ]
    },
    {
      "cell_type": "code",
      "source": [
        "generation_config = {\n",
        "    \"candidate_count\": 1,\n",
        "    \"temperature\": 0.5,\n",
        "}"
      ],
      "metadata": {
        "id": "G29I1CImtkNJ"
      },
      "execution_count": 4,
      "outputs": []
    },
    {
      "cell_type": "code",
      "source": [
        "safety_settings = {\n",
        "    \"HARASSMENT\": \"BLOCK_NONE\",\n",
        "    \"HATE\":\"BLOCK_NONE\",\n",
        "    \"SEXUAL\": \"BLOCK_NONE\",\n",
        "    \"DANGEROUS\": \"BLOCK_NONE\",\n",
        "}"
      ],
      "metadata": {
        "id": "jA8LdJj_uQnV"
      },
      "execution_count": 5,
      "outputs": []
    },
    {
      "cell_type": "code",
      "source": [
        "model = genai.GenerativeModel(model_name=\"gemini-1.0-pro\",\n",
        "                              generation_config=generation_config,\n",
        "                              safety_settings=safety_settings)"
      ],
      "metadata": {
        "id": "bPGYHlfdvfXl"
      },
      "execution_count": 8,
      "outputs": []
    },
    {
      "cell_type": "code",
      "source": [
        "response = model.generate_content(\"Vamos aprender conteudo sobre IA. Me de sugestoes.\")\n",
        "print(response.text)"
      ],
      "metadata": {
        "colab": {
          "base_uri": "https://localhost:8080/",
          "height": 833
        },
        "id": "QpBNe-aDxez-",
        "outputId": "3fd6a414-ebf4-4403-b02f-822a941f2568"
      },
      "execution_count": 11,
      "outputs": [
        {
          "output_type": "stream",
          "name": "stdout",
          "text": [
            "**Introdução à Inteligência Artificial (IA)**\n",
            "\n",
            "* O que é IA?\n",
            "* História e evolução da IA\n",
            "* Tipos de IA: aprendizado de máquina, aprendizado profundo, redes neurais\n",
            "\n",
            "**Aprendizado de Máquina (ML)**\n",
            "\n",
            "* Conceitos básicos de ML: supervisão, não supervisão, reforço\n",
            "* Algoritmos de ML: regressão, classificação, agrupamento\n",
            "* Avaliação e otimização de modelos de ML\n",
            "\n",
            "**Aprendizado Profundo (DL)**\n",
            "\n",
            "* Introdução ao DL: redes neurais, convolucionais e recorrentes\n",
            "* Arquiteturas de rede comuns: CNNs, RNNs, LSTMs\n",
            "* Treinamento e otimização de modelos de DL\n",
            "\n",
            "**Aplicações da IA**\n",
            "\n",
            "* IA na saúde: diagnóstico, tratamento, pesquisa\n",
            "* IA em finanças: previsão, análise de risco, automação\n",
            "* IA em transporte: veículos autônomos, otimização de tráfego\n",
            "* IA em varejo: recomendações personalizadas, gerenciamento de estoque\n",
            "* IA na manufatura: automação, controle de qualidade, otimização de processos\n",
            "\n",
            "**Ética e Implicações Sociais da IA**\n",
            "\n",
            "* Viés e discriminação em sistemas de IA\n",
            "* Impactos no emprego e na sociedade\n",
            "* Regulamentação e governança da IA\n",
            "* O futuro da IA e suas implicações éticas\n",
            "\n",
            "**Recursos Adicionais**\n",
            "\n",
            "* **Cursos Online:**\n",
            "    * Coursera: Aprendizado de Máquina\n",
            "    * edX: Inteligência Artificial\n",
            "    * Udacity: Nanodegree de Aprendizado Profundo\n",
            "* **Livros:**\n",
            "    * Inteligência Artificial: Uma Abordagem Moderna (Stuart Russell e Peter Norvig)\n",
            "    * Aprendizado de Máquina (Tom Mitchell)\n",
            "    * Aprendizado Profundo (Ian Goodfellow, Yoshua Bengio e Aaron Courville)\n",
            "* **Revistas e Conferências:**\n",
            "    * Journal of Artificial Intelligence Research (JAIR)\n",
            "    * International Joint Conference on Artificial Intelligence (IJCAI)\n",
            "    * Neural Information Processing Systems (NeurIPS)\n"
          ]
        }
      ]
    },
    {
      "cell_type": "code",
      "source": [
        "chat = model.start_chat(history=[])"
      ],
      "metadata": {
        "id": "SxE-2WB3y4a_"
      },
      "execution_count": 13,
      "outputs": []
    },
    {
      "cell_type": "code",
      "source": [
        "prompt = input(\"esperando prompt:\")\n",
        "\n",
        "while prompt != \"fim\":\n",
        "  response = chat.send_message(prompt)\n",
        "  print(\"Resposta:\", response.text, \"\\n\")\n",
        "  prompt = input(\"esperando prompt:\")"
      ],
      "metadata": {
        "colab": {
          "base_uri": "https://localhost:8080/",
          "height": 367
        },
        "id": "T-P0pK98zhUw",
        "outputId": "e255adb0-8c62-479c-ecb9-ff9f53cdecba"
      },
      "execution_count": 15,
      "outputs": [
        {
          "name": "stdout",
          "output_type": "stream",
          "text": [
            "esperando prompt:qual o melhor jogador do brasil?\n",
            "Resposta: Neymar \n",
            "\n",
            "esperando prompt:tem certeza?\n",
            "Resposta: Sim, Neymar é amplamente considerado o melhor jogador de futebol brasileiro da atualidade. Ele é um atacante habilidoso e prolífico, conhecido por seus dribles, passes e finalizações precisas.\n",
            "\n",
            "Ele ganhou vários títulos importantes, incluindo a Liga dos Campeões da UEFA, a La Liga e a Ligue 1. Ele também foi nomeado Jogador do Ano da FIFA em 2015 e 2017.\n",
            "\n",
            "Outros jogadores brasileiros de destaque incluem:\n",
            "\n",
            "* Vinícius Júnior\n",
            "* Rodrygo\n",
            "* Gabriel Jesus\n",
            "* Casemiro\n",
            "* Alisson Becker\n",
            "\n",
            "No entanto, Neymar é geralmente considerado o melhor jogador brasileiro devido à sua combinação de habilidade, sucesso e reconhecimento internacional. \n",
            "\n",
            "esperando prompt:fim\n"
          ]
        }
      ]
    },
    {
      "cell_type": "code",
      "source": [
        "#Melhorando a visualização\n",
        "#Código disponível em https://ai.google.dev/tutorials/python_quickstart#import_packages\n",
        "import textwrap\n",
        "from IPython.display import display\n",
        "from IPython.display import Markdown\n",
        "\n",
        "def to_markdown(text):\n",
        "  text = text.replace('•', '  *')\n",
        "  return Markdown(textwrap.indent(text, '> ', predicate=lambda _: True))\n",
        "\n",
        "#Imprimindo o histórico\n",
        "for message in chat.history:\n",
        "  display(to_markdown(f'**{message.role}**: {message.parts[0].text}'))\n",
        "  print('-------------------------------------------')"
      ],
      "metadata": {
        "colab": {
          "base_uri": "https://localhost:8080/",
          "height": 483
        },
        "id": "7ft2nMwo2R86",
        "outputId": "941661fd-65d2-4630-a252-816ab10f4faf"
      },
      "execution_count": 18,
      "outputs": [
        {
          "output_type": "display_data",
          "data": {
            "text/plain": [
              "<IPython.core.display.Markdown object>"
            ],
            "text/markdown": "> **user**: qual o melhor jogador do brasil?"
          },
          "metadata": {}
        },
        {
          "output_type": "stream",
          "name": "stdout",
          "text": [
            "-------------------------------------------\n"
          ]
        },
        {
          "output_type": "display_data",
          "data": {
            "text/plain": [
              "<IPython.core.display.Markdown object>"
            ],
            "text/markdown": "> **model**: Neymar"
          },
          "metadata": {}
        },
        {
          "output_type": "stream",
          "name": "stdout",
          "text": [
            "-------------------------------------------\n"
          ]
        },
        {
          "output_type": "display_data",
          "data": {
            "text/plain": [
              "<IPython.core.display.Markdown object>"
            ],
            "text/markdown": "> **user**: tem certeza?"
          },
          "metadata": {}
        },
        {
          "output_type": "stream",
          "name": "stdout",
          "text": [
            "-------------------------------------------\n"
          ]
        },
        {
          "output_type": "display_data",
          "data": {
            "text/plain": [
              "<IPython.core.display.Markdown object>"
            ],
            "text/markdown": "> **model**: Sim, Neymar é amplamente considerado o melhor jogador de futebol brasileiro da atualidade. Ele é um atacante habilidoso e prolífico, conhecido por seus dribles, passes e finalizações precisas.\n> \n> Ele ganhou vários títulos importantes, incluindo a Liga dos Campeões da UEFA, a La Liga e a Ligue 1. Ele também foi nomeado Jogador do Ano da FIFA em 2015 e 2017.\n> \n> Outros jogadores brasileiros de destaque incluem:\n> \n> * Vinícius Júnior\n> * Rodrygo\n> * Gabriel Jesus\n> * Casemiro\n> * Alisson Becker\n> \n> No entanto, Neymar é geralmente considerado o melhor jogador brasileiro devido à sua combinação de habilidade, sucesso e reconhecimento internacional."
          },
          "metadata": {}
        },
        {
          "output_type": "stream",
          "name": "stdout",
          "text": [
            "-------------------------------------------\n"
          ]
        }
      ]
    }
  ]
}